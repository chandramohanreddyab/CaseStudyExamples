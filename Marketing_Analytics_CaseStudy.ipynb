{
 "cells": [
  {
   "cell_type": "markdown",
   "metadata": {},
   "source": [
    " <h4>Author: Mr. Chandramohan Reddy ANKIREDDYPALLI &nbsp;&nbsp; &nbsp; &nbsp;Email: chandramohanreddyab@gmail.com &nbsp;&nbsp; &nbsp; &nbsp; Contact: +33 766 785 789</h4>   "
   ]
  },
  {
   "cell_type": "markdown",
   "metadata": {},
   "source": [
    "## Exploratory Data Analysis, and KPI for Design Next Marketing Campaign using current marketing campaign data"
   ]
  },
  {
   "cell_type": "markdown",
   "metadata": {},
   "source": [
    "### Business Understanding:"
   ]
  },
  {
   "cell_type": "markdown",
   "metadata": {},
   "source": [
    "**Marketing strategy is a long-term, forward-looking approach and an overall game plan of any organization or any business with the fundamental goal of achieving a sustainable competitive advantage by understanding the needs and wants of customers.** <br>\n",
    "\n",
    "**Marketing Analytics helps businesses to understand how marketing campaigns are performing as part of Marketing strategies. Marketing analytics play a vital role to understand** <br>\n",
    "- **Campaign Goals & KPIs for the respective campaign**\n",
    "- **Budget,and ROI**\n",
    "- **Campaign Content-Format such gifs, videos, or just images**\n",
    "- **Channels to promote campaigns**\n",
    "\n",
    "\n",
    "**In this case, we need to extract key insights to help the next marketing strategy with help of campaign and student data**"
   ]
  },
  {
   "cell_type": "markdown",
   "metadata": {},
   "source": [
    "### Data Description: \n",
    "**Data is stored in Postgres DB and is extracted using SQL server engine in python**\n",
    "\n",
    "**public.campaign** Contains campaign details of registered student  \n",
    "\n",
    ">**`student_id` character(64)** : Students ID, unique for each student  \n",
    ">**`source` character(200)** : Source of website traffic  \n",
    ">**`campaign` character(200)** : Marketing Campaign details \n",
    "\n",
    "**public.students:** Contains Students and language classes information  \n",
    "\n",
    ">**`id` character(64)** Students ID, unique for each student  \n",
    ">**`country` character(3)** Stundent origin/located country  \n",
    ">**`id` character(64)** Student ID, unique for each student   \n",
    ">**`section` character(50)** Language section   \n",
    ">**`classes_booked` numeric(10,2)** number of classes booked    \n",
    ">**`classes_attended` numeric(10,2)** number of classes attended   \n",
    " "
   ]
  },
  {
   "cell_type": "markdown",
   "metadata": {},
   "source": [
    "### Table of Contents:\n",
    "> **[Importing necessary libraries](#id1)**  \n",
    "> **[User Defined Functions](#id2)**  \n",
    "> **[Query data from Postgres DB](#id3)**   \n",
    "> **[Q1:Explorative Data Analysis:](#id4)**  \n",
    "> **[Hypotheses](#id5)**  \n",
    "> **[Q2: Conceptual Questions](#id6)**"
   ]
  },
  {
   "cell_type": "markdown",
   "metadata": {},
   "source": [
    "### Importing necessary Libraries\n",
    "<div id=\"id1\"></div>"
   ]
  },
  {
   "cell_type": "code",
   "execution_count": 1,
   "metadata": {},
   "outputs": [],
   "source": [
    "import warnings\n",
    "warnings.filterwarnings('ignore')\n",
    "import pandas as pd\n",
    "import numpy as np\n",
    "import psycopg2\n",
    "import matplotlib.pyplot as plt\n",
    "import seaborn as sns\n",
    "\n",
    "%matplotlib inline"
   ]
  },
  {
   "cell_type": "markdown",
   "metadata": {},
   "source": [
    "### User Defined Functions\n",
    "<div id=\"id2\"></div>"
   ]
  },
  {
   "cell_type": "code",
   "execution_count": 2,
   "metadata": {},
   "outputs": [],
   "source": [
    "#UDF for inspecting data\n",
    "def inspect_data(data):\n",
    "    print('Data Shape: ',data.shape)\n",
    "    return pd.DataFrame({\"Data Type\":data.dtypes,\"No. of Unique vlaues\":data.apply(lambda x: x.nunique(),axis=0),\n",
    "                         \"Unique Values\":data.apply(lambda x: str(x.unique()),axis=0),\n",
    "                         \"NaN Values\": data.apply(lambda x: x.isna().sum())})"
   ]
  },
  {
   "cell_type": "markdown",
   "metadata": {},
   "source": [
    "### Query data from Postgres DB\n",
    "<div id=\"id3\"></div>"
   ]
  },
  {
   "cell_type": "code",
   "execution_count": 3,
   "metadata": {},
   "outputs": [],
   "source": [
    "#Creating SQL engine that helps us to query data from Postgress\n",
    "conn = psycopg2.connect(\"host=public.bi.lingoda.com dbname=postgres port=5432 user=test password=TPQwk3wwrT3eqvavFJx9REEaqJrVzmGyQBVcGQbSUzGv7ASTGJFDffXY362eSsqP\")"
   ]
  },
  {
   "cell_type": "code",
   "execution_count": 4,
   "metadata": {},
   "outputs": [],
   "source": [
    "# query of all data from the \"campaign\", and \"students\" tables in the \"Postgres\" database, and create pandas data frames\n",
    "campaign=pd.read_sql_query('SELECT * FROM campaign',con=conn)\n",
    "students=pd.read_sql_query('SELECT * FROM students',con=conn)"
   ]
  },
  {
   "cell_type": "code",
   "execution_count": 5,
   "metadata": {},
   "outputs": [
    {
     "data": {
      "text/html": [
       "<div>\n",
       "<style scoped>\n",
       "    .dataframe tbody tr th:only-of-type {\n",
       "        vertical-align: middle;\n",
       "    }\n",
       "\n",
       "    .dataframe tbody tr th {\n",
       "        vertical-align: top;\n",
       "    }\n",
       "\n",
       "    .dataframe thead th {\n",
       "        text-align: right;\n",
       "    }\n",
       "</style>\n",
       "<table border=\"1\" class=\"dataframe\">\n",
       "  <thead>\n",
       "    <tr style=\"text-align: right;\">\n",
       "      <th></th>\n",
       "      <th>student_id</th>\n",
       "      <th>source</th>\n",
       "      <th>campaign</th>\n",
       "    </tr>\n",
       "  </thead>\n",
       "  <tbody>\n",
       "    <tr>\n",
       "      <th>0</th>\n",
       "      <td>fBmhZeyHHqcLFJxlh85r7Ktci29Pr2a9</td>\n",
       "      <td>stronglang.wordpress.com</td>\n",
       "      <td>i_love_languages</td>\n",
       "    </tr>\n",
       "    <tr>\n",
       "      <th>1</th>\n",
       "      <td>fBmhZeyHHqcLFJxlh85r7Ktci29Pr2a9</td>\n",
       "      <td>www.lablue.de</td>\n",
       "      <td>i_love_languages</td>\n",
       "    </tr>\n",
       "    <tr>\n",
       "      <th>2</th>\n",
       "      <td>fBmhZeyHHqcLFJxlh85r7Ktci29Pr2a9</td>\n",
       "      <td>email</td>\n",
       "      <td>big_savings</td>\n",
       "    </tr>\n",
       "    <tr>\n",
       "      <th>3</th>\n",
       "      <td>IMos7Ypty1OdWxQrfgLDk020Yaw35PrV</td>\n",
       "      <td>www.hkage.org.hk</td>\n",
       "      <td>big_savings</td>\n",
       "    </tr>\n",
       "    <tr>\n",
       "      <th>4</th>\n",
       "      <td>IMos7Ypty1OdWxQrfgLDk020Yaw35PrV</td>\n",
       "      <td>direct</td>\n",
       "      <td>big_savings</td>\n",
       "    </tr>\n",
       "  </tbody>\n",
       "</table>\n",
       "</div>"
      ],
      "text/plain": [
       "                         student_id                    source  \\\n",
       "0  fBmhZeyHHqcLFJxlh85r7Ktci29Pr2a9  stronglang.wordpress.com   \n",
       "1  fBmhZeyHHqcLFJxlh85r7Ktci29Pr2a9             www.lablue.de   \n",
       "2  fBmhZeyHHqcLFJxlh85r7Ktci29Pr2a9                     email   \n",
       "3  IMos7Ypty1OdWxQrfgLDk020Yaw35PrV          www.hkage.org.hk   \n",
       "4  IMos7Ypty1OdWxQrfgLDk020Yaw35PrV                    direct   \n",
       "\n",
       "           campaign  \n",
       "0  i_love_languages  \n",
       "1  i_love_languages  \n",
       "2       big_savings  \n",
       "3       big_savings  \n",
       "4       big_savings  "
      ]
     },
     "execution_count": 5,
     "metadata": {},
     "output_type": "execute_result"
    }
   ],
   "source": [
    "#display campaign data\n",
    "campaign.head(5)"
   ]
  },
  {
   "cell_type": "code",
   "execution_count": 6,
   "metadata": {},
   "outputs": [
    {
     "data": {
      "text/html": [
       "<div>\n",
       "<style scoped>\n",
       "    .dataframe tbody tr th:only-of-type {\n",
       "        vertical-align: middle;\n",
       "    }\n",
       "\n",
       "    .dataframe tbody tr th {\n",
       "        vertical-align: top;\n",
       "    }\n",
       "\n",
       "    .dataframe thead th {\n",
       "        text-align: right;\n",
       "    }\n",
       "</style>\n",
       "<table border=\"1\" class=\"dataframe\">\n",
       "  <thead>\n",
       "    <tr style=\"text-align: right;\">\n",
       "      <th></th>\n",
       "      <th>id</th>\n",
       "      <th>country</th>\n",
       "      <th>section</th>\n",
       "      <th>classes_booked</th>\n",
       "      <th>classes_attended</th>\n",
       "    </tr>\n",
       "  </thead>\n",
       "  <tbody>\n",
       "    <tr>\n",
       "      <th>0</th>\n",
       "      <td>fBmhZeyHHqcLFJxlh85r7Ktci29Pr2a9</td>\n",
       "      <td>CH</td>\n",
       "      <td>spanish</td>\n",
       "      <td>55.0</td>\n",
       "      <td>2.0</td>\n",
       "    </tr>\n",
       "    <tr>\n",
       "      <th>1</th>\n",
       "      <td>IMos7Ypty1OdWxQrfgLDk020Yaw35PrV</td>\n",
       "      <td>DE</td>\n",
       "      <td>spanish</td>\n",
       "      <td>50.0</td>\n",
       "      <td>10.0</td>\n",
       "    </tr>\n",
       "    <tr>\n",
       "      <th>2</th>\n",
       "      <td>L7Pjm8km0K9MJ59fxVUFkORcLbp69CKB</td>\n",
       "      <td>DE</td>\n",
       "      <td>spanish</td>\n",
       "      <td>70.0</td>\n",
       "      <td>5.0</td>\n",
       "    </tr>\n",
       "    <tr>\n",
       "      <th>3</th>\n",
       "      <td>EZ31TFAz9981JtlEli8LtYNdZy8W46uc</td>\n",
       "      <td>US</td>\n",
       "      <td>spanish</td>\n",
       "      <td>32.0</td>\n",
       "      <td>20.0</td>\n",
       "    </tr>\n",
       "    <tr>\n",
       "      <th>4</th>\n",
       "      <td>KXaSHopoCCVXit7CUulMWaqLy4ClSfWJ</td>\n",
       "      <td>DE</td>\n",
       "      <td>english</td>\n",
       "      <td>20.0</td>\n",
       "      <td>15.0</td>\n",
       "    </tr>\n",
       "  </tbody>\n",
       "</table>\n",
       "</div>"
      ],
      "text/plain": [
       "                                 id country  section  classes_booked  \\\n",
       "0  fBmhZeyHHqcLFJxlh85r7Ktci29Pr2a9      CH  spanish            55.0   \n",
       "1  IMos7Ypty1OdWxQrfgLDk020Yaw35PrV      DE  spanish            50.0   \n",
       "2  L7Pjm8km0K9MJ59fxVUFkORcLbp69CKB      DE  spanish            70.0   \n",
       "3  EZ31TFAz9981JtlEli8LtYNdZy8W46uc      US  spanish            32.0   \n",
       "4  KXaSHopoCCVXit7CUulMWaqLy4ClSfWJ      DE  english            20.0   \n",
       "\n",
       "   classes_attended  \n",
       "0               2.0  \n",
       "1              10.0  \n",
       "2               5.0  \n",
       "3              20.0  \n",
       "4              15.0  "
      ]
     },
     "execution_count": 6,
     "metadata": {},
     "output_type": "execute_result"
    }
   ],
   "source": [
    "#display students data\n",
    "students.head(5)"
   ]
  },
  {
   "cell_type": "markdown",
   "metadata": {},
   "source": [
    "### Q1:Exploratory Data Analysis:\n",
    "<div id=\"id4\"></div>  "
   ]
  },
  {
   "cell_type": "markdown",
   "metadata": {},
   "source": [
    "### Table1: public.campaign"
   ]
  },
  {
   "cell_type": "markdown",
   "metadata": {},
   "source": [
    "**Inspect campaign data**"
   ]
  },
  {
   "cell_type": "code",
   "execution_count": 7,
   "metadata": {},
   "outputs": [
    {
     "name": "stdout",
     "output_type": "stream",
     "text": [
      "Data Shape:  (29, 3)\n"
     ]
    },
    {
     "data": {
      "text/html": [
       "<div>\n",
       "<style scoped>\n",
       "    .dataframe tbody tr th:only-of-type {\n",
       "        vertical-align: middle;\n",
       "    }\n",
       "\n",
       "    .dataframe tbody tr th {\n",
       "        vertical-align: top;\n",
       "    }\n",
       "\n",
       "    .dataframe thead th {\n",
       "        text-align: right;\n",
       "    }\n",
       "</style>\n",
       "<table border=\"1\" class=\"dataframe\">\n",
       "  <thead>\n",
       "    <tr style=\"text-align: right;\">\n",
       "      <th></th>\n",
       "      <th>Data Type</th>\n",
       "      <th>No. of Unique vlaues</th>\n",
       "      <th>Unique Values</th>\n",
       "      <th>NaN Values</th>\n",
       "    </tr>\n",
       "  </thead>\n",
       "  <tbody>\n",
       "    <tr>\n",
       "      <th>student_id</th>\n",
       "      <td>object</td>\n",
       "      <td>20</td>\n",
       "      <td>['fBmhZeyHHqcLFJxlh85r7Ktci29Pr2a9' 'IMos7Ypty...</td>\n",
       "      <td>0</td>\n",
       "    </tr>\n",
       "    <tr>\n",
       "      <th>source</th>\n",
       "      <td>object</td>\n",
       "      <td>17</td>\n",
       "      <td>['stronglang.wordpress.com' 'www.lablue.de' 'e...</td>\n",
       "      <td>0</td>\n",
       "    </tr>\n",
       "    <tr>\n",
       "      <th>campaign</th>\n",
       "      <td>object</td>\n",
       "      <td>3</td>\n",
       "      <td>['i_love_languages' 'big_savings' 'i_love_lang...</td>\n",
       "      <td>0</td>\n",
       "    </tr>\n",
       "  </tbody>\n",
       "</table>\n",
       "</div>"
      ],
      "text/plain": [
       "           Data Type  No. of Unique vlaues  \\\n",
       "student_id    object                    20   \n",
       "source        object                    17   \n",
       "campaign      object                     3   \n",
       "\n",
       "                                                Unique Values  NaN Values  \n",
       "student_id  ['fBmhZeyHHqcLFJxlh85r7Ktci29Pr2a9' 'IMos7Ypty...           0  \n",
       "source      ['stronglang.wordpress.com' 'www.lablue.de' 'e...           0  \n",
       "campaign    ['i_love_languages' 'big_savings' 'i_love_lang...           0  "
      ]
     },
     "execution_count": 7,
     "metadata": {},
     "output_type": "execute_result"
    }
   ],
   "source": [
    "inspect_data(campaign)"
   ]
  },
  {
   "cell_type": "markdown",
   "metadata": {},
   "source": [
    "<font color=brown>**Observations:**</font><br>\n",
    "<font color=darkblue> 1. There are 29 datapoints (rows), and 20 student Id's,and therefore students are repeated \n",
    "<br> 2. Number of Unique Values Souce inforamtion is alomost equal to number of data points, and Data transforamtion is required on this feature \n",
    "<br> 3. It seem there are speeling mistakes in `campaign` feature\n",
    "<br> 3. There are no NaN/NA values to be filled  </font>"
   ]
  },
  {
   "cell_type": "markdown",
   "metadata": {},
   "source": [
    "**Data Transformation on \"source\" feature**"
   ]
  },
  {
   "cell_type": "code",
   "execution_count": 8,
   "metadata": {},
   "outputs": [
    {
     "data": {
      "text/html": [
       "<div>\n",
       "<style scoped>\n",
       "    .dataframe tbody tr th:only-of-type {\n",
       "        vertical-align: middle;\n",
       "    }\n",
       "\n",
       "    .dataframe tbody tr th {\n",
       "        vertical-align: top;\n",
       "    }\n",
       "\n",
       "    .dataframe thead th {\n",
       "        text-align: right;\n",
       "    }\n",
       "</style>\n",
       "<table border=\"1\" class=\"dataframe\">\n",
       "  <thead>\n",
       "    <tr style=\"text-align: right;\">\n",
       "      <th></th>\n",
       "      <th>student_id</th>\n",
       "      <th>campaign</th>\n",
       "    </tr>\n",
       "    <tr>\n",
       "      <th>source</th>\n",
       "      <th></th>\n",
       "      <th></th>\n",
       "    </tr>\n",
       "  </thead>\n",
       "  <tbody>\n",
       "    <tr>\n",
       "      <th>akvalink.bitrix24.ru</th>\n",
       "      <td>1</td>\n",
       "      <td>1</td>\n",
       "    </tr>\n",
       "    <tr>\n",
       "      <th>ascdedge.ascd.org</th>\n",
       "      <td>1</td>\n",
       "      <td>1</td>\n",
       "    </tr>\n",
       "    <tr>\n",
       "      <th>direct</th>\n",
       "      <td>11</td>\n",
       "      <td>11</td>\n",
       "    </tr>\n",
       "    <tr>\n",
       "      <th>email</th>\n",
       "      <td>3</td>\n",
       "      <td>3</td>\n",
       "    </tr>\n",
       "    <tr>\n",
       "      <th>forum.redcountyrp.com</th>\n",
       "      <td>1</td>\n",
       "      <td>1</td>\n",
       "    </tr>\n",
       "    <tr>\n",
       "      <th>greenhouse.my.salesforce.com</th>\n",
       "      <td>1</td>\n",
       "      <td>1</td>\n",
       "    </tr>\n",
       "    <tr>\n",
       "      <th>hdvidzpro.me</th>\n",
       "      <td>1</td>\n",
       "      <td>1</td>\n",
       "    </tr>\n",
       "    <tr>\n",
       "      <th>im.ibope.com.br</th>\n",
       "      <td>1</td>\n",
       "      <td>1</td>\n",
       "    </tr>\n",
       "    <tr>\n",
       "      <th>oleg-leusenko.livejournal.com</th>\n",
       "      <td>1</td>\n",
       "      <td>1</td>\n",
       "    </tr>\n",
       "    <tr>\n",
       "      <th>reviversoft.com</th>\n",
       "      <td>1</td>\n",
       "      <td>1</td>\n",
       "    </tr>\n",
       "    <tr>\n",
       "      <th>smartprogress.do</th>\n",
       "      <td>1</td>\n",
       "      <td>1</td>\n",
       "    </tr>\n",
       "    <tr>\n",
       "      <th>stronglang.wordpress.com</th>\n",
       "      <td>1</td>\n",
       "      <td>1</td>\n",
       "    </tr>\n",
       "    <tr>\n",
       "      <th>www.diafestivo.es</th>\n",
       "      <td>1</td>\n",
       "      <td>1</td>\n",
       "    </tr>\n",
       "    <tr>\n",
       "      <th>www.hkage.org.hk</th>\n",
       "      <td>1</td>\n",
       "      <td>1</td>\n",
       "    </tr>\n",
       "    <tr>\n",
       "      <th>www.hledat.com</th>\n",
       "      <td>1</td>\n",
       "      <td>1</td>\n",
       "    </tr>\n",
       "    <tr>\n",
       "      <th>www.lablue.de</th>\n",
       "      <td>1</td>\n",
       "      <td>1</td>\n",
       "    </tr>\n",
       "    <tr>\n",
       "      <th>www.qpl-search.com</th>\n",
       "      <td>1</td>\n",
       "      <td>1</td>\n",
       "    </tr>\n",
       "  </tbody>\n",
       "</table>\n",
       "</div>"
      ],
      "text/plain": [
       "                               student_id  campaign\n",
       "source                                             \n",
       "akvalink.bitrix24.ru                    1         1\n",
       "ascdedge.ascd.org                       1         1\n",
       "direct                                 11        11\n",
       "email                                   3         3\n",
       "forum.redcountyrp.com                   1         1\n",
       "greenhouse.my.salesforce.com            1         1\n",
       "hdvidzpro.me                            1         1\n",
       "im.ibope.com.br                         1         1\n",
       "oleg-leusenko.livejournal.com           1         1\n",
       "reviversoft.com                         1         1\n",
       "smartprogress.do                        1         1\n",
       "stronglang.wordpress.com                1         1\n",
       "www.diafestivo.es                       1         1\n",
       "www.hkage.org.hk                        1         1\n",
       "www.hledat.com                          1         1\n",
       "www.lablue.de                           1         1\n",
       "www.qpl-search.com                      1         1"
      ]
     },
     "execution_count": 8,
     "metadata": {},
     "output_type": "execute_result"
    }
   ],
   "source": [
    "#checking source informations to group different catergories\n",
    "campaign.groupby('source').count()"
   ]
  },
  {
   "cell_type": "markdown",
   "metadata": {},
   "source": [
    "<font color=brown>**Observations:**</font><br>\n",
    "<font color=darkblue> 1. 11 times students visited lingoda website directly, 3 times via email, and rest of the times via other websites.\n",
    "<br> 2. We can bin all these websites as `other_websites` for better understanding\n",
    "</font>"
   ]
  },
  {
   "cell_type": "code",
   "execution_count": 9,
   "metadata": {},
   "outputs": [],
   "source": [
    "# Data Transformation \n",
    "campaign['web_traffic_source']=campaign['source'].apply(lambda x: x if x in ['direct','email'] else 'other_websites')"
   ]
  },
  {
   "cell_type": "markdown",
   "metadata": {},
   "source": [
    "**Data Transformation on \"campaign\" feature**"
   ]
  },
  {
   "cell_type": "code",
   "execution_count": 10,
   "metadata": {},
   "outputs": [
    {
     "data": {
      "text/html": [
       "<div>\n",
       "<style scoped>\n",
       "    .dataframe tbody tr th:only-of-type {\n",
       "        vertical-align: middle;\n",
       "    }\n",
       "\n",
       "    .dataframe tbody tr th {\n",
       "        vertical-align: top;\n",
       "    }\n",
       "\n",
       "    .dataframe thead th {\n",
       "        text-align: right;\n",
       "    }\n",
       "</style>\n",
       "<table border=\"1\" class=\"dataframe\">\n",
       "  <thead>\n",
       "    <tr style=\"text-align: right;\">\n",
       "      <th></th>\n",
       "      <th>student_id</th>\n",
       "      <th>source</th>\n",
       "      <th>web_traffic_source</th>\n",
       "    </tr>\n",
       "    <tr>\n",
       "      <th>campaign</th>\n",
       "      <th></th>\n",
       "      <th></th>\n",
       "      <th></th>\n",
       "    </tr>\n",
       "  </thead>\n",
       "  <tbody>\n",
       "    <tr>\n",
       "      <th>big_savings</th>\n",
       "      <td>8</td>\n",
       "      <td>8</td>\n",
       "      <td>8</td>\n",
       "    </tr>\n",
       "    <tr>\n",
       "      <th>i_love_language</th>\n",
       "      <td>1</td>\n",
       "      <td>1</td>\n",
       "      <td>1</td>\n",
       "    </tr>\n",
       "    <tr>\n",
       "      <th>i_love_languages</th>\n",
       "      <td>20</td>\n",
       "      <td>20</td>\n",
       "      <td>20</td>\n",
       "    </tr>\n",
       "  </tbody>\n",
       "</table>\n",
       "</div>"
      ],
      "text/plain": [
       "                  student_id  source  web_traffic_source\n",
       "campaign                                                \n",
       "big_savings                8       8                   8\n",
       "i_love_language            1       1                   1\n",
       "i_love_languages          20      20                  20"
      ]
     },
     "execution_count": 10,
     "metadata": {},
     "output_type": "execute_result"
    }
   ],
   "source": [
    "#checking different campaigns\n",
    "campaign.groupby('campaign').count()"
   ]
  },
  {
   "cell_type": "markdown",
   "metadata": {},
   "source": [
    "<font color=brown>**Observations:**</font><br>\n",
    "<font color=darkblue> 1. There is only one row for campaign `i_love_language`, and 20 rowns for `i_love_languages`. It indiacates that there is typo, and has to be changed\n",
    "</font>"
   ]
  },
  {
   "cell_type": "code",
   "execution_count": 11,
   "metadata": {},
   "outputs": [],
   "source": [
    "#Data transfomation\n",
    "campaign['campaign'].replace('i_love_language','i_love_languages',inplace=True)"
   ]
  },
  {
   "cell_type": "code",
   "execution_count": 12,
   "metadata": {},
   "outputs": [
    {
     "data": {
      "image/png": "[encoded data removed]",
      "text/plain": [
       "<Figure size 1152x720 with 2 Axes>"
      ]
     },
     "metadata": {},
     "output_type": "display_data"
    }
   ],
   "source": [
    "#Pie Chart Visulization to understand effectiveness of each campaign, and sources of webtraffic\n",
    "fig,axs=plt.subplots(1,2,figsize=(16,10))\n",
    "\n",
    "campaign['campaign'].value_counts().plot.pie(explode=[0.02, 0.02], autopct='%1.1f%%', shadow=True, startangle=90, ax=axs[0])\n",
    "axs[0].set_title('Attracted students Percentage Per Campaign',size=12)\n",
    "axs[0].set_ylabel('')\n",
    "\n",
    "campaign['web_traffic_source'].value_counts().plot.pie(explode=[0.02, 0.02,0.02], autopct='%1.1f%%', shadow=True,colors=('grey','brown','lightblue'), ax=axs[1],startangle=90)\n",
    "axs[1].set_title('Source of web traffic',size=12)\n",
    "axs[1].set_ylabel('')\n",
    "plt.show()"
   ]
  },
  {
   "cell_type": "markdown",
   "metadata": {},
   "source": [
    "<font color=brown>**Observations:**</font><br>\n",
    "<font color=darkblue> \n",
    "1. **i_love_languages** campaign is succesful, where **42%** more students registered compared to **big_savings** campaign <br>\n",
    "2. The campaign on external websites dominates other campaigns with 51.7% of web traffic, and whereas campaigns through other channels email, direct website has 10.3% ,37.9% of total web traffic respectively.\n",
    "</font>"
   ]
  },
  {
   "cell_type": "code",
   "execution_count": 13,
   "metadata": {},
   "outputs": [
    {
     "data": {
      "image/png": "[encoded data removed]",
      "text/plain": [
       "<Figure size 576x432 with 1 Axes>"
      ]
     },
     "metadata": {
      "needs_background": "light"
     },
     "output_type": "display_data"
    }
   ],
   "source": [
    "#let breakdown Campaigns Vs Web_Traffic_Sources\n",
    "plt.figure(figsize=(8,6))\n",
    "sns.countplot('campaign',hue='web_traffic_source',data=campaign)\n",
    "plt.title('Campaign Vs Web Traffic',size=12)\n",
    "plt.xlabel('Campaign',size=10)\n",
    "plt.xlabel('Traffic Count',size=10)\n",
    "plt.show()"
   ]
  },
  {
   "cell_type": "markdown",
   "metadata": {},
   "source": [
    "<font color=brown>**Observations:**</font><br>\n",
    "<font color=darkblue> \n",
    "1. The campaign **i_love_languages** campaign on external websites, while campaign **big_savings** succeful on direct websites.\n",
    "2. Campaign through Email has **low student registations** during both campaigns periods\n",
    "</font>"
   ]
  },
  {
   "cell_type": "markdown",
   "metadata": {},
   "source": [
    "### Table2: public.students"
   ]
  },
  {
   "cell_type": "code",
   "execution_count": 14,
   "metadata": {},
   "outputs": [
    {
     "name": "stdout",
     "output_type": "stream",
     "text": [
      "Data Shape:  (20, 5)\n"
     ]
    },
    {
     "data": {
      "text/html": [
       "<div>\n",
       "<style scoped>\n",
       "    .dataframe tbody tr th:only-of-type {\n",
       "        vertical-align: middle;\n",
       "    }\n",
       "\n",
       "    .dataframe tbody tr th {\n",
       "        vertical-align: top;\n",
       "    }\n",
       "\n",
       "    .dataframe thead th {\n",
       "        text-align: right;\n",
       "    }\n",
       "</style>\n",
       "<table border=\"1\" class=\"dataframe\">\n",
       "  <thead>\n",
       "    <tr style=\"text-align: right;\">\n",
       "      <th></th>\n",
       "      <th>Data Type</th>\n",
       "      <th>No. of Unique vlaues</th>\n",
       "      <th>Unique Values</th>\n",
       "      <th>NaN Values</th>\n",
       "    </tr>\n",
       "  </thead>\n",
       "  <tbody>\n",
       "    <tr>\n",
       "      <th>id</th>\n",
       "      <td>object</td>\n",
       "      <td>20</td>\n",
       "      <td>['fBmhZeyHHqcLFJxlh85r7Ktci29Pr2a9' 'IMos7Ypty...</td>\n",
       "      <td>0</td>\n",
       "    </tr>\n",
       "    <tr>\n",
       "      <th>country</th>\n",
       "      <td>object</td>\n",
       "      <td>11</td>\n",
       "      <td>['CH' 'DE' 'US' 'SK' 'RU' 'FI' 'FR' 'SP' 'PL' ...</td>\n",
       "      <td>0</td>\n",
       "    </tr>\n",
       "    <tr>\n",
       "      <th>section</th>\n",
       "      <td>object</td>\n",
       "      <td>4</td>\n",
       "      <td>['spanish' 'english' 'german' 'french']</td>\n",
       "      <td>0</td>\n",
       "    </tr>\n",
       "    <tr>\n",
       "      <th>classes_booked</th>\n",
       "      <td>float64</td>\n",
       "      <td>16</td>\n",
       "      <td>[55.0 50.0 70.0 32.0 20.0 40.0 28.0 10.0 65.0 ...</td>\n",
       "      <td>0</td>\n",
       "    </tr>\n",
       "    <tr>\n",
       "      <th>classes_attended</th>\n",
       "      <td>float64</td>\n",
       "      <td>13</td>\n",
       "      <td>[2.0 10.0 5.0 20.0 15.0 8.0 7.0 1.0 12.0 4.0 1...</td>\n",
       "      <td>0</td>\n",
       "    </tr>\n",
       "  </tbody>\n",
       "</table>\n",
       "</div>"
      ],
      "text/plain": [
       "                 Data Type  No. of Unique vlaues  \\\n",
       "id                  object                    20   \n",
       "country             object                    11   \n",
       "section             object                     4   \n",
       "classes_booked     float64                    16   \n",
       "classes_attended   float64                    13   \n",
       "\n",
       "                                                      Unique Values  \\\n",
       "id                ['fBmhZeyHHqcLFJxlh85r7Ktci29Pr2a9' 'IMos7Ypty...   \n",
       "country           ['CH' 'DE' 'US' 'SK' 'RU' 'FI' 'FR' 'SP' 'PL' ...   \n",
       "section                     ['spanish' 'english' 'german' 'french']   \n",
       "classes_booked    [55.0 50.0 70.0 32.0 20.0 40.0 28.0 10.0 65.0 ...   \n",
       "classes_attended  [2.0 10.0 5.0 20.0 15.0 8.0 7.0 1.0 12.0 4.0 1...   \n",
       "\n",
       "                  NaN Values  \n",
       "id                         0  \n",
       "country                    0  \n",
       "section                    0  \n",
       "classes_booked             0  \n",
       "classes_attended           0  "
      ]
     },
     "execution_count": 14,
     "metadata": {},
     "output_type": "execute_result"
    }
   ],
   "source": [
    "#inspect student data\n",
    "inspect_data(students)"
   ]
  },
  {
   "cell_type": "markdown",
   "metadata": {},
   "source": [
    "<font color=brown>**Observations:**</font><br>\n",
    "<font color=darkblue> 1. There are 20 datapoints (rows), and 20 student Id's,and therefore students id are key's in this table <br> 2. Students from 11 countries are interested to learn 4 languages\n",
    "<br> 3. There are no NaN/NA values to be filled  </font>"
   ]
  },
  {
   "cell_type": "code",
   "execution_count": 15,
   "metadata": {},
   "outputs": [
    {
     "name": "stdout",
     "output_type": "stream",
     "text": [
      "Number Students who never booked classes:  0\n",
      "Number Students who did attend any booked classes:  0\n"
     ]
    }
   ],
   "source": [
    "#Let's check if there any students who did not book any classes, or attended any classes\n",
    "print(\"Number Students who never booked classes: \",students[students['classes_booked']==0].shape[0])\n",
    "print(\"Number Students who did attend any booked classes: \",students[students['classes_attended']==0].shape[0])"
   ]
  },
  {
   "cell_type": "code",
   "execution_count": 16,
   "metadata": {},
   "outputs": [
    {
     "data": {
      "image/png": "[encoded data removed]",
      "text/plain": [
       "<Figure size 720x432 with 1 Axes>"
      ]
     },
     "metadata": {
      "needs_background": "light"
     },
     "output_type": "display_data"
    }
   ],
   "source": [
    "# let's understand classes booked, and classes attended\n",
    "fig,axs=plt.subplots(1,1,figsize=(10,6))\n",
    "sns.kdeplot(students.classes_booked,  label='Classes_Booked')\n",
    "sns.kdeplot(students.classes_attended, label='classes_attended')\n",
    "plt.title('Distibution of Bookes Classes and Attended Classes',size=12)\n",
    "plt.xlabel('Number of Classes',size=10)\n",
    "plt.ylabel('Density of probability For Classes',size=10)\n",
    "plt.xticks(range(0,100,5))\n",
    "plt.show()"
   ]
  },
  {
   "cell_type": "markdown",
   "metadata": {},
   "source": [
    "<font color=brown>**Observations:**</font><br>\n",
    "<font color=darkblue> \n",
    "1. The distribution shows there there is very less probabilty of students attending all registered classes <br> \n",
    "2. On average stundets booked 32 classes, and attended 7 classes <br>\n",
    "</font>\n",
    "\n",
    "Note: Distribution plots are just to understand the likelihood of classes booked and attended. Negative values for these variables won't be there."
   ]
  },
  {
   "cell_type": "code",
   "execution_count": 17,
   "metadata": {},
   "outputs": [
    {
     "data": {
      "text/plain": [
       "<matplotlib.legend.Legend at 0x217a36779d0>"
      ]
     },
     "execution_count": 17,
     "metadata": {},
     "output_type": "execute_result"
    },
    {
     "data": {
      "image/png": "[encoded data removed]",
      "text/plain": [
       "<Figure size 1152x432 with 1 Axes>"
      ]
     },
     "metadata": {
      "needs_background": "light"
     },
     "output_type": "display_data"
    }
   ],
   "source": [
    "#Country Vs Language \n",
    "fig,axs=plt.subplots(1,1,figsize=(16,6))\n",
    "sns.countplot('country',hue='section',data=students)\n",
    "plt.ylabel('number of students')\n",
    "plt.legend()"
   ]
  },
  {
   "cell_type": "markdown",
   "metadata": {},
   "source": [
    "<font color=brown>**Observations:**</font><br>\n",
    "<font color=darkblue> \n",
    "1. People from the neighber countries of germany are more interested to learn German<br> \n",
    "2. Highest registrations to learn English, especially from coutnries germany and russia<br>\n",
    "</font>"
   ]
  },
  {
   "cell_type": "markdown",
   "metadata": {},
   "source": [
    "### 5 Hypotheses:\n",
    "<div id=\"id5\"></div>  "
   ]
  },
  {
   "cell_type": "markdown",
   "metadata": {},
   "source": [
    "<font color=darkblue> \n",
    "Given data on campaigns, and students are very less to draw conclusions. Defining statistical hypotheses based on limited pieces of evidence or prior knowledge would help marketing researchers to design campaigns, run experiments, and to discover performance campaigns. <br>\n",
    "\n",
    "Following are potential hypotheses this case<br>\n",
    "\n",
    "1. Campaign on other websites is effective<br> \n",
    "2. Direct website campaign has high click-rate <br>\n",
    "3. Email campaign has more registrations <br>\n",
    "4. Improving content quality improves students attendance  <br>\n",
    "\n",
    "</font>"
   ]
  },
  {
   "cell_type": "markdown",
   "metadata": {},
   "source": [
    "### Q2. Concptual Questions\n",
    "<div id=\"id6\"></div>  "
   ]
  },
  {
   "cell_type": "markdown",
   "metadata": {},
   "source": [
    "### Q2A: Model that predicts which students would be most likely to be a High Active and High Value student"
   ]
  },
  {
   "cell_type": "markdown",
   "metadata": {},
   "source": [
    "**Data to be used as input:**\n",
    "\n",
    "- `student_id:` timestamp of the impression\n",
    "- `CategoraicalVariables`:  categorical features that represent profile of the customer such as gender, country, age, profession\n",
    "- `classes_attended` : number of classes attended\n",
    "- `avg_online_duration` : average_online_classes_duration\n",
    "- `assignment_activity` : Assignent_activity\n",
    "- `subscription_details`: subscription_Details\n",
    "- `section` : course language details\n",
    "- `campaign_details` : special offers details\n",
    "- `reminder_emails` : reminder email details\n",
    "- `app_notificaton_clickrate` : application notification click rate"
   ]
  },
  {
   "cell_type": "markdown",
   "metadata": {},
   "source": [
    "**Analytical Process:**\n",
    "There is no target variable that tells a student is (high active and high value) or not. Hence a target variable has to be defined using a metric to classify each student (`True: hight_value and high_active,  False: Other`). \n",
    "\n",
    "**example metrics to define target variable:**\n",
    "1. `value_and_active_student = (attendance %> threshold %) and (classes_booked > threshold)`\n",
    "2. `value_and_active_studnet = (noramlize(classes_attended)*noramlize(classes_booked))> threshold`\n",
    "3. `clustering algorithms` can be used to group student into two groups as (high active and high value) and others and use this to classify new studets coming in."
   ]
  },
  {
   "cell_type": "markdown",
   "metadata": {},
   "source": [
    "**Following is the example to create target varaible**"
   ]
  },
  {
   "cell_type": "code",
   "execution_count": 18,
   "metadata": {},
   "outputs": [
    {
     "data": {
      "text/html": [
       "<div>\n",
       "<style scoped>\n",
       "    .dataframe tbody tr th:only-of-type {\n",
       "        vertical-align: middle;\n",
       "    }\n",
       "\n",
       "    .dataframe tbody tr th {\n",
       "        vertical-align: top;\n",
       "    }\n",
       "\n",
       "    .dataframe thead th {\n",
       "        text-align: right;\n",
       "    }\n",
       "</style>\n",
       "<table border=\"1\" class=\"dataframe\">\n",
       "  <thead>\n",
       "    <tr style=\"text-align: right;\">\n",
       "      <th></th>\n",
       "      <th>id</th>\n",
       "      <th>country</th>\n",
       "      <th>section</th>\n",
       "      <th>classes_booked</th>\n",
       "      <th>classes_attended</th>\n",
       "      <th>classes_attended_std</th>\n",
       "      <th>classes_booked_std</th>\n",
       "      <th>target</th>\n",
       "    </tr>\n",
       "  </thead>\n",
       "  <tbody>\n",
       "    <tr>\n",
       "      <th>0</th>\n",
       "      <td>fBmhZeyHHqcLFJxlh85r7Ktci29Pr2a9</td>\n",
       "      <td>CH</td>\n",
       "      <td>spanish</td>\n",
       "      <td>55.0</td>\n",
       "      <td>2.0</td>\n",
       "      <td>0.036340</td>\n",
       "      <td>0.999339</td>\n",
       "      <td>False</td>\n",
       "    </tr>\n",
       "    <tr>\n",
       "      <th>1</th>\n",
       "      <td>IMos7Ypty1OdWxQrfgLDk020Yaw35PrV</td>\n",
       "      <td>DE</td>\n",
       "      <td>spanish</td>\n",
       "      <td>50.0</td>\n",
       "      <td>10.0</td>\n",
       "      <td>0.196116</td>\n",
       "      <td>0.980581</td>\n",
       "      <td>False</td>\n",
       "    </tr>\n",
       "    <tr>\n",
       "      <th>2</th>\n",
       "      <td>L7Pjm8km0K9MJ59fxVUFkORcLbp69CKB</td>\n",
       "      <td>DE</td>\n",
       "      <td>spanish</td>\n",
       "      <td>70.0</td>\n",
       "      <td>5.0</td>\n",
       "      <td>0.071247</td>\n",
       "      <td>0.997459</td>\n",
       "      <td>False</td>\n",
       "    </tr>\n",
       "    <tr>\n",
       "      <th>3</th>\n",
       "      <td>EZ31TFAz9981JtlEli8LtYNdZy8W46uc</td>\n",
       "      <td>US</td>\n",
       "      <td>spanish</td>\n",
       "      <td>32.0</td>\n",
       "      <td>20.0</td>\n",
       "      <td>0.529999</td>\n",
       "      <td>0.847998</td>\n",
       "      <td>True</td>\n",
       "    </tr>\n",
       "    <tr>\n",
       "      <th>4</th>\n",
       "      <td>KXaSHopoCCVXit7CUulMWaqLy4ClSfWJ</td>\n",
       "      <td>DE</td>\n",
       "      <td>english</td>\n",
       "      <td>20.0</td>\n",
       "      <td>15.0</td>\n",
       "      <td>0.600000</td>\n",
       "      <td>0.800000</td>\n",
       "      <td>True</td>\n",
       "    </tr>\n",
       "    <tr>\n",
       "      <th>5</th>\n",
       "      <td>F6XiNarRyRguxt94ygHr8ohcwkioEgBZ</td>\n",
       "      <td>DE</td>\n",
       "      <td>english</td>\n",
       "      <td>40.0</td>\n",
       "      <td>8.0</td>\n",
       "      <td>0.196116</td>\n",
       "      <td>0.980581</td>\n",
       "      <td>False</td>\n",
       "    </tr>\n",
       "    <tr>\n",
       "      <th>6</th>\n",
       "      <td>J1sYm7BfkyIWcls170RxkB14lrfltpip</td>\n",
       "      <td>SK</td>\n",
       "      <td>english</td>\n",
       "      <td>28.0</td>\n",
       "      <td>7.0</td>\n",
       "      <td>0.242536</td>\n",
       "      <td>0.970143</td>\n",
       "      <td>False</td>\n",
       "    </tr>\n",
       "    <tr>\n",
       "      <th>7</th>\n",
       "      <td>ehYVY0bXJ03VirWYdpkTyX9OnNzv31aL</td>\n",
       "      <td>RU</td>\n",
       "      <td>english</td>\n",
       "      <td>10.0</td>\n",
       "      <td>8.0</td>\n",
       "      <td>0.624695</td>\n",
       "      <td>0.780869</td>\n",
       "      <td>True</td>\n",
       "    </tr>\n",
       "  </tbody>\n",
       "</table>\n",
       "</div>"
      ],
      "text/plain": [
       "                                 id country  section  classes_booked  \\\n",
       "0  fBmhZeyHHqcLFJxlh85r7Ktci29Pr2a9      CH  spanish            55.0   \n",
       "1  IMos7Ypty1OdWxQrfgLDk020Yaw35PrV      DE  spanish            50.0   \n",
       "2  L7Pjm8km0K9MJ59fxVUFkORcLbp69CKB      DE  spanish            70.0   \n",
       "3  EZ31TFAz9981JtlEli8LtYNdZy8W46uc      US  spanish            32.0   \n",
       "4  KXaSHopoCCVXit7CUulMWaqLy4ClSfWJ      DE  english            20.0   \n",
       "5  F6XiNarRyRguxt94ygHr8ohcwkioEgBZ      DE  english            40.0   \n",
       "6  J1sYm7BfkyIWcls170RxkB14lrfltpip      SK  english            28.0   \n",
       "7  ehYVY0bXJ03VirWYdpkTyX9OnNzv31aL      RU  english            10.0   \n",
       "\n",
       "   classes_attended  classes_attended_std  classes_booked_std  target  \n",
       "0               2.0              0.036340            0.999339   False  \n",
       "1              10.0              0.196116            0.980581   False  \n",
       "2               5.0              0.071247            0.997459   False  \n",
       "3              20.0              0.529999            0.847998    True  \n",
       "4              15.0              0.600000            0.800000    True  \n",
       "5               8.0              0.196116            0.980581   False  \n",
       "6               7.0              0.242536            0.970143   False  \n",
       "7               8.0              0.624695            0.780869    True  "
      ]
     },
     "execution_count": 18,
     "metadata": {},
     "output_type": "execute_result"
    }
   ],
   "source": [
    "from sklearn.preprocessing import Normalizer\n",
    "nrm=Normalizer()\n",
    "nrm.fit(students[['classes_attended','classes_booked']])\n",
    "students[['classes_attended_std','classes_booked_std']]=pd.DataFrame(nrm.transform(students[['classes_attended','classes_booked']]))\n",
    "students['target']=(students['classes_attended_std']*students['classes_booked_std'])>0.40\n",
    "students.head(8)"
   ]
  },
  {
   "cell_type": "markdown",
   "metadata": {},
   "source": [
    "with help of the above data, and Machine Learning/ Deep Learning algorithms, the Classification model is trained to classify new students "
   ]
  },
  {
   "cell_type": "markdown",
   "metadata": {},
   "source": [
    "**Analytical Output:** \n",
    "1. If a student is classified as not (value_and_active_student), personalized/target marketing can be done to increase student activity, and value. \n",
    "2. The output of these algorithms works basis for other marketing strategies."
   ]
  },
  {
   "cell_type": "markdown",
   "metadata": {},
   "source": [
    "**Potential delivery mechanism:** Agile or Kanban Methodology , and Intergration with inhouse Marketing tool with visulization"
   ]
  },
  {
   "cell_type": "markdown",
   "metadata": {},
   "source": [
    "**Python Libraries you use and why**\n",
    "- `psycopg2`      : to read data from Postgres DB\n",
    "- `numpy`         : matrix operations\n",
    "- `sklearn`       : machine learning\n",
    "- `tensorflow`    : deep learning\n",
    "- `pandas`        : data handling\n",
    "- `plotly/seaborn`: interactive visulizations\n",
    "- `matlplotlib`   : base package for visulizations\n",
    "- `dash/flask`    : Web Development framework the Html,Javascript,Boostrap\n",
    "\n",
    "Note: While working on a problem, the solution may require some other libraries which are not listed  above, but these are the most commonly used libraries for ML development."
   ]
  },
  {
   "cell_type": "markdown",
   "metadata": {},
   "source": [
    "### Q2B. Campaign optimization algorithm:"
   ]
  },
  {
   "cell_type": "markdown",
   "metadata": {},
   "source": [
    "**`Cross-channel marketing spend optimization using deep learning`** is a recent trend in marketing, I would recommend implementing the same strategy for this campaign optimization<br>"
   ]
  },
  {
   "cell_type": "markdown",
   "metadata": {},
   "source": [
    "**Data to be used as input:**\n",
    "- `Timestamp:` timestamp of the impression\n",
    "- `UID:` unique user identifier using cookies\n",
    "- `Campaign:` unique campaign identifier using cookies\n",
    "- `Click:` 1 if the impression was clicked; 0 otherwise\n",
    "- `Cost:` the price paid for this ad\n",
    "- `CategoraicalVariable`: categorical features associated with the ad such original of country, type of ad etc\n",
    "- `ConversionVariables`: if click happened from the same user in last 30days, conversation ids etc"
   ]
  },
  {
   "cell_type": "markdown",
   "metadata": {},
   "source": [
    "**Analytical process:** Even though there are several approaches to optimize a campaign, one of the effective optimization algorithms is **attribution modeling**  \n",
    "\n",
    "- Analyze individual customer journeys and interactions, budget is assigned to channels or activities for each conversion.\n",
    "- Allocation of budget can be made based on the attribution scores averaged across multiple customer journeys.\n",
    "- Attributions are calculated by using machine learning and deep learning algorithms\n",
    "\n",
    "one of the traditional approaches is **marketing mix modeling (MMM).**  A basic model of this kind may look like this\n",
    "\n",
    "**`Sales = alpha1×budget1 + alpha2×budget2 + alpha3xbudget3 +....`**\n",
    "\n",
    "Here α1,α2,α3.. are different channels attirubutions of medium calcualted by using regression"
   ]
  },
  {
   "cell_type": "markdown",
   "metadata": {},
   "source": [
    "**Analytical Output:**   Idea is to have an optimization algorithm to do **budget optimization across channels(websites, email), across campaigns(type of content, discounts), optimization of channel parameters.** Attribution model meets this criterion and  help to achieve\n",
    "\n",
    "- Optimized attribution values: Performance of campaigns on different channels\n",
    "- Varied Budget allocations: Decrease/Increase budgets for different marketing strategies\n",
    "- High ROI"
   ]
  },
  {
   "cell_type": "markdown",
   "metadata": {},
   "source": [
    "**Potential delivery mechanism:** Agile Methodology, and Integration with inhouse Marketing tool with visualization"
   ]
  },
  {
   "cell_type": "markdown",
   "metadata": {},
   "source": [
    "**Python Libraries you use and why**\n",
    "- `psycopg2`      : to read data from Postgres DB\n",
    "- `numpy`         : matrix operations\n",
    "- `sklearn`       : machine learning\n",
    "- `tensorflow`    : deep learning\n",
    "- `pandas`        : data handling\n",
    "- `plotly/seaborn`: interactive visulizations\n",
    "- `matlplotlib`   : base package for visulizations\n",
    "- `dash/flask`    : Web Development framework the Html,Javascript,Boostrap\n",
    "\n",
    "Note: While working on a problem, the solution may require some other libraries which are not listed  above, but these are the most commonly used libraries for ML development"
   ]
  },
  {
   "cell_type": "code",
   "execution_count": null,
   "metadata": {},
   "outputs": [],
   "source": []
  }
 ],
 "metadata": {
  "kernelspec": {
   "display_name": "Python 3",
   "language": "python",
   "name": "python3"
  },
  "language_info": {
   "codemirror_mode": {
    "name": "ipython",
    "version": 3
   },
   "file_extension": ".py",
   "mimetype": "text/x-python",
   "name": "python",
   "nbconvert_exporter": "python",
   "pygments_lexer": "ipython3",
   "version": "3.8.3"
  }
 },
 "nbformat": 4,
 "nbformat_minor": 4
}
